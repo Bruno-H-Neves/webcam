{
 "cells": [
  {
   "cell_type": "code",
   "execution_count": 1,
   "metadata": {},
   "outputs": [],
   "source": [
    "import mediapipe as mp\n",
    "import cv2\n",
    "\n",
    "webcam= cv2.VideoCapture(0)\n",
    "recognize_face=mp.solutions.face_detection\n",
    "identificar_rosto=recognize_face.FaceDetection()\n",
    "desenho=mp.solutions.drawing_utils\n",
    "while True:\n",
    "    verificador,frame=webcam.read() \n",
    "    if not verificador:\n",
    "        break\n",
    "    lista_rostos=identificar_rosto.process(frame)\n",
    "    if lista_rostos.detections:\n",
    "        for rosto in lista_rostos.detections: \n",
    "            desenho.draw_detection(frame,rosto)\n",
    "    cv2.imshow('Rostos na webcam', frame)        \n",
    "    if cv2.waitKey(5)==27: # 5 milisegundos ou ord('a')para outras teclas\n",
    "        break\n",
    "   \n",
    "\n",
    "webcam.release()\n",
    "cv2.destroyAllWindows() "
   ]
  }
 ],
 "metadata": {
  "interpreter": {
   "hash": "b3ba2566441a7c06988d0923437866b63cedc61552a5af99d1f4fb67d367b25f"
  },
  "kernelspec": {
   "display_name": "Python 3.8.8 64-bit ('base': conda)",
   "name": "python3"
  },
  "language_info": {
   "codemirror_mode": {
    "name": "ipython",
    "version": 3
   },
   "file_extension": ".py",
   "mimetype": "text/x-python",
   "name": "python",
   "nbconvert_exporter": "python",
   "pygments_lexer": "ipython3",
   "version": "3.8.8"
  },
  "orig_nbformat": 4
 },
 "nbformat": 4,
 "nbformat_minor": 2
}
